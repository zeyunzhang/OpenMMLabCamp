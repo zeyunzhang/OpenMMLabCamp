{
 "cells": [
  {
   "cell_type": "markdown",
   "id": "9621e3b1-dd42-479c-8b80-6dc6a8e875e3",
   "metadata": {},
   "source": [
    "# 划分训练集和测试集\n",
    "\n",
    "Richardz\n",
    "\n",
    "2023-02-12"
   ]
  },
  {
   "cell_type": "markdown",
   "id": "24228f54-9782-4a9f-9464-880679ec8f30",
   "metadata": {},
   "source": [
    "## 导入工具包"
   ]
  },
  {
   "cell_type": "code",
   "execution_count": 5,
   "id": "447de385-68b8-454d-a60b-524c1bffedca",
   "metadata": {
    "tags": []
   },
   "outputs": [],
   "source": [
    "import os\n",
    "import random\n",
    "import os.path as osp"
   ]
  },
  {
   "cell_type": "markdown",
   "id": "50dfb718-8b9a-4560-8274-a1ed124d168f",
   "metadata": {},
   "source": [
    "## 获取全部数据文件名列表"
   ]
  },
  {
   "cell_type": "code",
   "execution_count": 6,
   "id": "a52895dd-f2cc-454e-84bf-732b75ffddeb",
   "metadata": {
    "tags": []
   },
   "outputs": [],
   "source": [
    "# 数据集图片和标注路径\n",
    "data_root = 'nails_segmentation'\n",
    "img_dir = 'images'\n",
    "ann_dir = 'labels'\n",
    "\n",
    "# 类别和对应的颜色\n",
    "classes = ('nail', 'bg')\n",
    "palette = [[255, 255, 255], [0,0,0]]"
   ]
  },
  {
   "cell_type": "code",
   "execution_count": 7,
   "id": "3c4764da-e861-4151-9a4d-a7bc464d054d",
   "metadata": {
    "tags": []
   },
   "outputs": [],
   "source": [
    "PATH_IMAGE = osp.join(data_root, img_dir)\n",
    "PATH_MASKS = osp.join(data_root, ann_dir)"
   ]
  },
  {
   "cell_type": "code",
   "execution_count": 8,
   "id": "467b3a08-22a9-4454-9bc6-2e2faa52c1a5",
   "metadata": {
    "tags": []
   },
   "outputs": [],
   "source": [
    "all_file_list = os.listdir(PATH_IMAGE)\n",
    "all_file_num = len(all_file_list)\n",
    "random.shuffle(all_file_list) # 随机打乱全部数据文件名列表"
   ]
  },
  {
   "cell_type": "markdown",
   "id": "d4010c0e-0587-4360-af64-530424293b93",
   "metadata": {},
   "source": [
    "## 指定训练集和测试集比例"
   ]
  },
  {
   "cell_type": "code",
   "execution_count": 9,
   "id": "4a9d9297-5267-4b6b-ab66-e5d8e0d82d5f",
   "metadata": {
    "tags": []
   },
   "outputs": [],
   "source": [
    "train_ratio = 0.8\n",
    "test_ratio = 1 - train_ratio"
   ]
  },
  {
   "cell_type": "code",
   "execution_count": 10,
   "id": "0748ec32-3eb8-4f97-9a36-7c0c960fe89d",
   "metadata": {
    "tags": []
   },
   "outputs": [],
   "source": [
    "train_file_list = all_file_list[:int(all_file_num*train_ratio)]\n",
    "test_file_list = all_file_list[int(all_file_num*train_ratio):]"
   ]
  },
  {
   "cell_type": "code",
   "execution_count": 11,
   "id": "69664f88-f85f-4049-94db-a890edd5a8ca",
   "metadata": {
    "tags": []
   },
   "outputs": [
    {
     "name": "stdout",
     "output_type": "stream",
     "text": [
      "数据集图像总数 52\n",
      "训练集划分比例 0.8\n",
      "训练集图像个数 41\n",
      "测试集图像个数 11\n"
     ]
    }
   ],
   "source": [
    "print('数据集图像总数', all_file_num)\n",
    "print('训练集划分比例', train_ratio)\n",
    "print('训练集图像个数', len(train_file_list))\n",
    "print('测试集图像个数', len(test_file_list))"
   ]
  },
  {
   "cell_type": "code",
   "execution_count": 12,
   "id": "942553f0-3471-4221-9b5c-07d00419433f",
   "metadata": {
    "tags": []
   },
   "outputs": [
    {
     "data": {
      "text/plain": [
       "['869CDA2E-8251-4880-89D6-9409CBC416F3.jpg',\n",
       " 'd6072ec6-db67-11e8-9658-0242ac1c0002.jpg',\n",
       " 'F6F9B3E6-FA7B-4DAC-B08C-1AD19BC43A76.jpg',\n",
       " 'd62b0cd8-db67-11e8-9658-0242ac1c0002.jpg',\n",
       " 'af5626a5-feb4-4b2a-8c57-152e443ea3dc.jpg']"
      ]
     },
     "execution_count": 12,
     "metadata": {},
     "output_type": "execute_result"
    }
   ],
   "source": [
    "train_file_list[:5]"
   ]
  },
  {
   "cell_type": "code",
   "execution_count": 13,
   "id": "96ce2551-6ff4-406b-9696-f967e559bf60",
   "metadata": {
    "tags": []
   },
   "outputs": [
    {
     "data": {
      "text/plain": [
       "['9ABD7CB9-7617-4A66-8892-B335FDB0E89F.jpg',\n",
       " '3493127D-7B19-4E50-94AE-2401BD2A91C8.jpg',\n",
       " '4c478f3e-e402-11e8-97db-0242ac1c0002.jpg',\n",
       " '34404E67-4BB8-432E-863E-C1BEF5EB37E0.jpg',\n",
       " 'd60153c0-db67-11e8-9658-0242ac1c0002.jpg']"
      ]
     },
     "execution_count": 13,
     "metadata": {},
     "output_type": "execute_result"
    }
   ],
   "source": [
    "test_file_list[:5]"
   ]
  },
  {
   "cell_type": "markdown",
   "id": "5d7dd245-fb0d-44ac-9666-6ba21ec33f45",
   "metadata": {},
   "source": [
    "## 生成两个txt划分文件"
   ]
  },
  {
   "cell_type": "code",
   "execution_count": 19,
   "id": "c73d0a8d-fcf5-42cd-b6cf-e3521aee3ffb",
   "metadata": {
    "tags": []
   },
   "outputs": [],
   "source": [
    "os.mkdir(\"nails_segmentation/splits\")"
   ]
  },
  {
   "cell_type": "code",
   "execution_count": 20,
   "id": "e84a1007-d716-45c3-9d24-ba7c4966f585",
   "metadata": {
    "tags": []
   },
   "outputs": [],
   "source": [
    "with open('nails_segmentation/splits/train.txt', 'w') as f:\n",
    "    f.writelines(line.split('.')[0] + '\\n' for line in train_file_list)\n",
    "with open('nails_segmentation/splits/val.txt', 'w') as f:\n",
    "    f.writelines(line.split('.')[0] + '\\n' for line in test_file_list)"
   ]
  },
  {
   "cell_type": "code",
   "execution_count": null,
   "id": "9972ebd8-bbac-4afa-9d10-6885e3147124",
   "metadata": {},
   "outputs": [],
   "source": []
  }
 ],
 "metadata": {
  "kernelspec": {
   "display_name": "Python 3 (ipykernel)",
   "language": "python",
   "name": "python3"
  },
  "language_info": {
   "codemirror_mode": {
    "name": "ipython",
    "version": 3
   },
   "file_extension": ".py",
   "mimetype": "text/x-python",
   "name": "python",
   "nbconvert_exporter": "python",
   "pygments_lexer": "ipython3",
   "version": "3.10.9"
  }
 },
 "nbformat": 4,
 "nbformat_minor": 5
}
