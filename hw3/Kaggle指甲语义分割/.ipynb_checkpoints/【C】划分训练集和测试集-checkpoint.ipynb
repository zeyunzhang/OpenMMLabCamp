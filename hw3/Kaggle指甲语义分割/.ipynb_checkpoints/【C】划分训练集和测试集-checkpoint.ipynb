{
 "cells": [
  {
   "cell_type": "markdown",
   "id": "9621e3b1-dd42-479c-8b80-6dc6a8e875e3",
   "metadata": {},
   "source": [
    "# 划分训练集和测试集\n",
    "\n",
    "同济子豪兄\n",
    "\n",
    "2023-1-31"
   ]
  },
  {
   "cell_type": "markdown",
   "id": "24228f54-9782-4a9f-9464-880679ec8f30",
   "metadata": {},
   "source": [
    "## 导入工具包"
   ]
  },
  {
   "cell_type": "code",
   "execution_count": 8,
   "id": "447de385-68b8-454d-a60b-524c1bffedca",
   "metadata": {},
   "outputs": [],
   "source": [
    "import os\n",
    "import random"
   ]
  },
  {
   "cell_type": "markdown",
   "id": "50dfb718-8b9a-4560-8274-a1ed124d168f",
   "metadata": {},
   "source": [
    "## 获取全部数据文件名列表"
   ]
  },
  {
   "cell_type": "code",
   "execution_count": 4,
   "id": "a52895dd-f2cc-454e-84bf-732b75ffddeb",
   "metadata": {},
   "outputs": [],
   "source": [
    "PATH_IMAGE = 'Glomeruli-dataset/images'"
   ]
  },
  {
   "cell_type": "code",
   "execution_count": 18,
   "id": "467b3a08-22a9-4454-9bc6-2e2faa52c1a5",
   "metadata": {},
   "outputs": [],
   "source": [
    "all_file_list = os.listdir(PATH_IMAGE)\n",
    "all_file_num = len(all_file_list)\n",
    "random.shuffle(all_file_list) # 随机打乱全部数据文件名列表"
   ]
  },
  {
   "cell_type": "markdown",
   "id": "d4010c0e-0587-4360-af64-530424293b93",
   "metadata": {},
   "source": [
    "## 指定训练集和测试集比例"
   ]
  },
  {
   "cell_type": "code",
   "execution_count": 19,
   "id": "4a9d9297-5267-4b6b-ab66-e5d8e0d82d5f",
   "metadata": {},
   "outputs": [],
   "source": [
    "train_ratio = 0.8\n",
    "test_ratio = 1 - train_ratio"
   ]
  },
  {
   "cell_type": "code",
   "execution_count": 24,
   "id": "0748ec32-3eb8-4f97-9a36-7c0c960fe89d",
   "metadata": {},
   "outputs": [],
   "source": [
    "train_file_list = all_file_list[:int(all_file_num*train_ratio)]\n",
    "test_file_list = all_file_list[int(all_file_num*train_ratio):]"
   ]
  },
  {
   "cell_type": "code",
   "execution_count": 28,
   "id": "69664f88-f85f-4049-94db-a890edd5a8ca",
   "metadata": {},
   "outputs": [
    {
     "name": "stdout",
     "output_type": "stream",
     "text": [
      "数据集图像总数 2575\n",
      "训练集划分比例 0.8\n",
      "训练集图像个数 2060\n",
      "测试集图像个数 515\n"
     ]
    }
   ],
   "source": [
    "print('数据集图像总数', all_file_num)\n",
    "print('训练集划分比例', train_ratio)\n",
    "print('训练集图像个数', len(train_file_list))\n",
    "print('测试集图像个数', len(test_file_list))"
   ]
  },
  {
   "cell_type": "code",
   "execution_count": 26,
   "id": "942553f0-3471-4221-9b5c-07d00419433f",
   "metadata": {},
   "outputs": [
    {
     "data": {
      "text/plain": [
       "['VUHSK_1272_31.png',\n",
       " 'SAS_21915_001_2.png',\n",
       " 'SESCAM_6_0_80.png',\n",
       " 'SAS_21937_001_34.png',\n",
       " 'SAS_21942_001_57.png']"
      ]
     },
     "execution_count": 26,
     "metadata": {},
     "output_type": "execute_result"
    }
   ],
   "source": [
    "train_file_list[:5]"
   ]
  },
  {
   "cell_type": "code",
   "execution_count": 27,
   "id": "96ce2551-6ff4-406b-9696-f967e559bf60",
   "metadata": {},
   "outputs": [
    {
     "data": {
      "text/plain": [
       "['VUHSK_1502_22.png',\n",
       " 'VUHSK_1702_39.png',\n",
       " 'VUHSK_1432_6.png',\n",
       " 'SAS_21908_001_41.png',\n",
       " 'VUHSK_1352_67.png']"
      ]
     },
     "execution_count": 27,
     "metadata": {},
     "output_type": "execute_result"
    }
   ],
   "source": [
    "test_file_list[:5]"
   ]
  },
  {
   "cell_type": "markdown",
   "id": "5d7dd245-fb0d-44ac-9666-6ba21ec33f45",
   "metadata": {},
   "source": [
    "## 生成两个txt划分文件"
   ]
  },
  {
   "cell_type": "code",
   "execution_count": 3,
   "id": "c73d0a8d-fcf5-42cd-b6cf-e3521aee3ffb",
   "metadata": {},
   "outputs": [],
   "source": [
    "os.mkdir('Glomeruli-dataset/splits')"
   ]
  },
  {
   "cell_type": "code",
   "execution_count": 30,
   "id": "e84a1007-d716-45c3-9d24-ba7c4966f585",
   "metadata": {},
   "outputs": [],
   "source": [
    "with open('Glomeruli-dataset/splits/train.txt', 'w') as f:\n",
    "    f.writelines(line.split('.')[0] + '\\n' for line in train_file_list)\n",
    "with open('Glomeruli-dataset/splits/val.txt', 'w') as f:\n",
    "    f.writelines(line.split('.')[0] + '\\n' for line in test_file_list)"
   ]
  },
  {
   "cell_type": "code",
   "execution_count": null,
   "id": "9972ebd8-bbac-4afa-9d10-6885e3147124",
   "metadata": {},
   "outputs": [],
   "source": []
  }
 ],
 "metadata": {
  "kernelspec": {
   "display_name": "Python 3 (ipykernel)",
   "language": "python",
   "name": "python3"
  },
  "language_info": {
   "codemirror_mode": {
    "name": "ipython",
    "version": 3
   },
   "file_extension": ".py",
   "mimetype": "text/x-python",
   "name": "python",
   "nbconvert_exporter": "python",
   "pygments_lexer": "ipython3",
   "version": "3.7.10"
  }
 },
 "nbformat": 4,
 "nbformat_minor": 5
}
