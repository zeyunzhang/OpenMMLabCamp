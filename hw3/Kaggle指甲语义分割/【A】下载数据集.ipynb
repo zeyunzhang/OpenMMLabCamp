{
 "cells": [
  {
   "cell_type": "markdown",
   "id": "c99d266f-77c4-431d-bf1e-7bbebe4e2776",
   "metadata": {},
   "source": [
    "# 下载数据集\n",
    "\n",
    "Richardz\n",
    "\n",
    "2023-02-12"
   ]
  },
  {
   "cell_type": "markdown",
   "id": "9ff914d1-745a-469c-8f19-99d8e233e922",
   "metadata": {},
   "source": [
    "nails segmentation 数据集主页：https://www.kaggle.com/datasets/vpapenko/nails-segmentation/code?resource=download\n",
    "\n",
    "该数据集包含52张指甲图片和52个对应的mask.\n",
    "\n",
    "只包含一个类（指甲）\n",
    "\n",
    "图片和Mask的大小为 750 * 340"
   ]
  },
  {
   "cell_type": "code",
   "execution_count": 1,
   "id": "c6458cfb-ca22-4b9d-b851-84bd3e6dd008",
   "metadata": {
    "tags": []
   },
   "outputs": [
    {
     "name": "stdout",
     "output_type": "stream",
     "text": [
      "--2023-02-12 20:15:22--  https://bjbgp01.baidupcs.com/file/5605c94f9icceaa739169a232a17bca6?bkt=en-e031c0692dcd5a218e98910137fe011b4c2cf2fc123a22bad3c64d7967c0ab19f7907539ca1eef7f&fid=1395945879-250528-714691504291915&time=1676172599&sign=FDTAXUbGERQlBHSKfWqiu-DCb740ccc5511e5e8fedcff06b081203-%2BDk%2B65y%2BPlABYvEtSwLZwJUMSxU%3D&to=75&size=27439002&sta_dx=27439002&sta_cs=1&sta_ft=zip&sta_ct=0&sta_mt=0&fm2=MH%2CBaoding%2CAnywhere%2C%2CNone%2Cany&ctime=1676172287&mtime=1676172287&resv0=-1&resv1=0&resv2=rlim&resv3=5&resv4=27439002&vuk=1395945879&iv=2&htype=&randtype=&tkbind_id=0&newver=1&newfm=1&secfm=1&flow_ver=3&pkey=en-7f558756a8a2a79fd105a8c19dd985bfd1b85019aa91b14ef9545717385d7d2e2582ef557cc0f998&expires=8h&rt=sh&r=387350782&vbdid=2318339260&fin=nails_segmentation.zip&fn=nails_segmentation.zip&rtype=1&dp-logid=9055661932737963428&dp-callid=0.1&hps=1&tsl=0&csl=0&fsl=-1&csign=yUcDQq%2Bob7nSumpjjXUVhAmJ7is%3D&so=0&ut=1&uter=4&serv=0&uc=2200413400&ti=970a8ec65273ef12ebe44dcb1c7e08f85114b45b197ffb47&hflag=30&from_type=1&adg=c_ac66ccf1e2819f8b1e04ce3f2093e18c&reqlabel=250528_f_b4f22a7949ab8ecc55b6f17987068ae2_-1_ffecf632eeef087844f0cc0b37a70c5e&by=themis&resvsflag=1-0-0-1-1-1\n",
      "Resolving bjbgp01.baidupcs.com (bjbgp01.baidupcs.com)... 113.200.1.7\n",
      "Connecting to bjbgp01.baidupcs.com (bjbgp01.baidupcs.com)|113.200.1.7|:443... connected.\n",
      "HTTP request sent, awaiting response... 403 Forbidden\n",
      "Syntax error in Set-Cookie: - at position 1.\n",
      "2023-02-12 20:15:22 ERROR 403: Forbidden.\n",
      "\n"
     ]
    }
   ],
   "source": [
    "# Kaggle原版数据集(需要登录）\n",
    "# https://www.kaggle.com/datasets/vpapenko/nails-segmentation/code?resource=download\n",
    "\n",
    "# 百度网盘\n",
    "!wget -c --referer=https://pan.baidu.com/s/1SWpe_yFnlCMptr6ikD5uAg?pwd=nnrr -O nails_segmentation.zip \"https://bjbgp01.baidupcs.com/file/5605c94f9icceaa739169a232a17bca6?bkt=en-e031c0692dcd5a218e98910137fe011b4c2cf2fc123a22bad3c64d7967c0ab19f7907539ca1eef7f&fid=1395945879-250528-714691504291915&time=1676172599&sign=FDTAXUbGERQlBHSKfWqiu-DCb740ccc5511e5e8fedcff06b081203-%2BDk%2B65y%2BPlABYvEtSwLZwJUMSxU%3D&to=75&size=27439002&sta_dx=27439002&sta_cs=1&sta_ft=zip&sta_ct=0&sta_mt=0&fm2=MH%2CBaoding%2CAnywhere%2C%2CNone%2Cany&ctime=1676172287&mtime=1676172287&resv0=-1&resv1=0&resv2=rlim&resv3=5&resv4=27439002&vuk=1395945879&iv=2&htype=&randtype=&tkbind_id=0&newver=1&newfm=1&secfm=1&flow_ver=3&pkey=en-7f558756a8a2a79fd105a8c19dd985bfd1b85019aa91b14ef9545717385d7d2e2582ef557cc0f998&expires=8h&rt=sh&r=387350782&vbdid=2318339260&fin=nails_segmentation.zip&fn=nails_segmentation.zip&rtype=1&dp-logid=9055661932737963428&dp-callid=0.1&hps=1&tsl=0&csl=0&fsl=-1&csign=yUcDQq%2Bob7nSumpjjXUVhAmJ7is%3D&so=0&ut=1&uter=4&serv=0&uc=2200413400&ti=970a8ec65273ef12ebe44dcb1c7e08f85114b45b197ffb47&hflag=30&from_type=1&adg=c_ac66ccf1e2819f8b1e04ce3f2093e18c&reqlabel=250528_f_b4f22a7949ab8ecc55b6f17987068ae2_-1_ffecf632eeef087844f0cc0b37a70c5e&by=themis&resvsflag=1-0-0-1-1-1\""
   ]
  },
  {
   "cell_type": "code",
   "execution_count": 3,
   "id": "81285a83-d35a-4263-a57a-1ed55f6e493c",
   "metadata": {
    "tags": []
   },
   "outputs": [],
   "source": [
    "# 删除旧的数据集文件夹（如有）\n",
    "!rm -rf nails_segmentation\n",
    "\n",
    "# 解压\n",
    "!unzip nails_segmentation.zip >> /dev/null"
   ]
  },
  {
   "cell_type": "code",
   "execution_count": null,
   "id": "a6f69357-cce0-40c6-98e5-47929ebf54c0",
   "metadata": {},
   "outputs": [],
   "source": []
  }
 ],
 "metadata": {
  "kernelspec": {
   "display_name": "Python 3 (ipykernel)",
   "language": "python",
   "name": "python3"
  },
  "language_info": {
   "codemirror_mode": {
    "name": "ipython",
    "version": 3
   },
   "file_extension": ".py",
   "mimetype": "text/x-python",
   "name": "python",
   "nbconvert_exporter": "python",
   "pygments_lexer": "ipython3",
   "version": "3.10.9"
  }
 },
 "nbformat": 4,
 "nbformat_minor": 5
}
